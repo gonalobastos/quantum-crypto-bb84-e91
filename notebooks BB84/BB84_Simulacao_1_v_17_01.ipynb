{
 "cells": [
  {
   "cell_type": "markdown",
   "metadata": {},
   "source": [
    "# Quantum Key Distribution (BB84 Protocol)"
   ]
  },
  {
   "cell_type": "markdown",
   "metadata": {},
   "source": [
    "No entanto, existem alguns requisitos para que este protocolo funcione:\n",
    "* Tanto a Alice como o Bob têm de ter acesso ao seu próprio computador quântico.\n",
    "* Têm de ter um canal de comunicação capaz de transmitir qubits. Pode ser um tipo de cabo de fibra ótica capaz de transmitir fotões polarizados.\n",
    "* Devem dispor de um canal de comunicação clássico (como um cabo telefónico ou a internet).\n",
    "Uma vez que é impossível garantir uma segurança perfeita, temos de assumir que qualquer um destes canais pode ser acedido pela Eve, a espiã 😈.\n"
   ]
  },
  {
   "cell_type": "markdown",
   "metadata": {},
   "source": [
    "## Visão geral\n",
    "Eis como o protocolo funciona em poucas palavras:\n",
    "1. Alice cria uma sequência aleatória de bits e, para cada bit, escolhe aleatoriamente uma base para o codificar.\n",
    "2. Alice codifica os bits em qubits usando as bases escolhidas e envia os qubits através de um canal de comunicação quântico para o computador quântico de Bob.\n",
    "3. Bob também escolhe aleatoriamente uma base para descodificar cada qubit. Ele mede cada qubit nas bases que escolheu.\n",
    "4. A Alice usa um canal de comunicação clássico para dizer ao Bob quais as bases que escolheu. Ela também lhe diz os primeiros bits que enviou.\n",
    "5. Bob analisa estes primeiros bits para determinar se Eve entrou no seu canal de comunicação quântico e interceptou os qubits de Alice.\n",
    "6. Se Eve *não* interceptou os qubits, eles consideram todos os qubits para os quais escolheram as mesmas bases e usam esses bits como chave. Se Eve *interceptou* os qubits, eles repetem o processo novamente.\n",
    "\n",
    "Agora, vamos explicar o que cada um desses passos implica. **Primeiro, vamos ver como funciona se a mensagem não for interceptada por Eve**."
   ]
  },
  {
   "cell_type": "code",
   "execution_count": 337,
   "metadata": {},
   "outputs": [
    {
     "name": "stdout",
     "output_type": "stream",
     "text": [
      "<bound method AerSimulator.available_methods of AerSimulator('aer_simulator_statevector')>\n"
     ]
    }
   ],
   "source": [
    "# Importing necessary Qiskit modules\n",
    "from qiskit import QuantumCircuit, transpile\n",
    "from qiskit_aer import AerSimulator\n",
    "from qiskit.visualization import plot_bloch_multivector\n",
    "import matplotlib.pyplot as plt\n",
    "\n",
    "# Importing standard Python libraries\n",
    "import random\n",
    "\n",
    "simulator = AerSimulator(method='statevector')\n",
    "print(simulator.available_methods)\n"
   ]
  },
  {
   "cell_type": "markdown",
   "metadata": {},
   "source": [
    "## Codificação\n",
    "O primeiro passo é a Alice escolher uma sequência de bits e bases para os codificar."
   ]
  },
  {
   "cell_type": "code",
   "execution_count": 338,
   "metadata": {},
   "outputs": [],
   "source": [
    "# Preparation for encoding\n",
    "KEY_LENGTH = 500\n",
    "random.seed(23) # Seed the random number generator. This will be used as our \"coin flipper\"."
   ]
  },
  {
   "cell_type": "code",
   "execution_count": 342,
   "metadata": {},
   "outputs": [
    {
     "name": "stdout",
     "output_type": "stream",
     "text": [
      "The bits Alice is going to send are: 1101100001...\n"
     ]
    }
   ],
   "source": [
    "# Generating a random string of bits\n",
    "alice_bits = \"\"\n",
    "\n",
    "def gerar_bitstrings_aleatorios(num_qubits: int, num_bitstrings: int) -> str:\n",
    "    \"\"\"\n",
    "    Gera bitstrings aleatórios usando Qiskit e retorna como uma única string.\n",
    "    \n",
    "    :param num_qubits: Número de qubits no circuito (também determina o comprimento dos bitstrings).\n",
    "    :param num_bitstrings: Número de bitstrings a gerar.\n",
    "    :return: String contendo os bitstrings gerados, separados por espaços.\n",
    "    \"\"\"\n",
    "    # Criar o circuito quântico\n",
    "    qc = QuantumCircuit(num_qubits)\n",
    "    \n",
    "    # Colocar todos os qubits em superposição\n",
    "    for qubit in range(num_qubits):\n",
    "        qc.h(qubit)  # Aplicar porta Hadamard\n",
    "    \n",
    "    # Adicionar medidas\n",
    "    qc.measure_all()\n",
    "    \n",
    "    # Inicializar o simulador de Aer\n",
    "    simulator = AerSimulator()\n",
    "    \n",
    "    # Simular o circuito\n",
    "    compiled_circuit = transpile(qc)\n",
    "    result = simulator.run(compiled_circuit, shots=num_bitstrings).result()\n",
    "    \n",
    "    # Obter os resultados das medições\n",
    "    counts = result.get_counts()\n",
    "    \n",
    "    # Converter os resultados em uma única string de bitstrings\n",
    "    bitstrings = []\n",
    "    for bitstring, count in counts.items():\n",
    "        bitstrings.extend([bitstring] * count)\n",
    "    \n",
    "    # Retornar os bitstrings como uma única string separada por espaços\n",
    "    return \" \".join(bitstrings)\n",
    "\n",
    "alice_bits = gerar_bitstrings_aleatorios(KEY_LENGTH, 1)\n",
    "\n",
    "print(\"The bits Alice is going to send are: \" + alice_bits[:10] + \"...\")"
   ]
  },
  {
   "cell_type": "markdown",
   "metadata": {},
   "source": [
    "De seguida, Alice escolhe aleatoriamente uma base para cada bit (a base $Z$ ou a base $X$). Pode fazê-lo lançando uma moeda ao ar e escrevendo $Z$ sempre que acertar na cara e $X$ sempre que acertar na coroa.\n"
   ]
  },
  {
   "cell_type": "code",
   "execution_count": 308,
   "metadata": {},
   "outputs": [],
   "source": [
    "def generate_random_bases(num_of_bases):\n",
    "    \"\"\"This function selects a random basis for each bit\"\"\"\n",
    "    bases_string = \"\"\n",
    "    for i in range(num_of_bases):\n",
    "        randBasis = random.randint(0, 1) # Flip Coin\n",
    "\n",
    "        if randBasis == 0:\n",
    "            bases_string += \"Z\" \n",
    "        else:\n",
    "            bases_string += \"X\"\n",
    "            \n",
    "    return bases_string"
   ]
  },
  {
   "cell_type": "code",
   "execution_count": 309,
   "metadata": {},
   "outputs": [
    {
     "name": "stdout",
     "output_type": "stream",
     "text": [
      "The bases Alice is going to encode them in are: XXZXXZZZXZ...\n"
     ]
    }
   ],
   "source": [
    "alice_bases = generate_random_bases(KEY_LENGTH) # Alice randomly chooses a basis for each bit.\n",
    "    \n",
    "print(\"The bases Alice is going to encode them in are: \" + alice_bases[:10] + \"...\")"
   ]
  },
  {
   "cell_type": "markdown",
   "metadata": {},
   "source": [
    "Agora, Alice codifica cada bit na sua base correspondente no seu computador quântico, criando uma cadeia de 500 qubits. Ela envia estes qubits através de um cabo ótico para o Bob. Vamos ver como fazer isto usando o Qiskit.\n",
    "\n",
    "Por defeito, os computadores quânticos da IBM medem na base $Z$, e todos os qubits são inicializados com $|0\\rangle$. Para transformar isto num $|1\\rangle$, precisamos de aplicar uma porta $X$.\n",
    "\n",
    "Para codificar na base $X$, começamos com o $|0\\rangle$ ou $|1\\rangle$ correspondente, e depois aplicamos uma porta Hadamard (H). Esta porta converte um $|0\\rangle$ num $|+\\rangle$ e um $|1\\rangle$ num $|-\\rangle$.\n",
    "\n",
    "| Bit | Base | Estado do Qubit | Porta Necessária |\n",
    "|:---:|:-----:|:-----------:|:-------------:|\n",
    "| 0 | Z | $\\vert0\\rangle$ | Nenhum |\n",
    "| 1 | Z | $\\vert1\\rangle$ | X |\n",
    "| 0 | X | $\\vert+\\rangle$ | H |\n",
    "| 1 | X | $\\vert-\\rangle$ | X então H |\n",
    "\n",
    "Vamos armazenar o circuito quântico usado para codificar cada qubit."
   ]
  },
  {
   "cell_type": "code",
   "execution_count": 310,
   "metadata": {},
   "outputs": [],
   "source": [
    "def encode(bits, bases):\n",
    "    \"\"\"This function encodes each bit into the given basis.\"\"\"\n",
    "    \n",
    "    encoded_qubits = []\n",
    "    \n",
    "    for bit, basis in zip(bits, bases):\n",
    "        #para cada bit cria-se um circuito quantico \n",
    "        qc = QuantumCircuit(1, 1) #um qubit e um bit classico para armazenar a medição\n",
    "        \n",
    "        # Possible Cases\n",
    "        if bit==\"0\" and basis == \"Z\":\n",
    "            pass\n",
    "        elif bit==\"1\" and basis == \"Z\":\n",
    "            qc.x(0) # Apply X Gate\n",
    "            #encoded_qubits.append(qc)\n",
    "        elif bit==\"0\" and basis == \"X\":\n",
    "            qc.h(0) # Apply H Gate\n",
    "            #encoded_qubits.append(qc)\n",
    "        elif bit==\"1\" and basis == \"X\":\n",
    "            qc.x(0) # Apply X Gate\n",
    "            qc.h(0) # Apply H Gate\n",
    "            #encoded_qubits.append(qc)\n",
    "        \n",
    "        encoded_qubits.append(qc)\n",
    "\n",
    "    return (encoded_qubits)"
   ]
  },
  {
   "cell_type": "code",
   "execution_count": 311,
   "metadata": {},
   "outputs": [
    {
     "data": {
      "image/png": "[encoded data removed]",
      "text/plain": [
       "<Figure size 185.453x200.667 with 1 Axes>"
      ]
     },
     "execution_count": 311,
     "metadata": {},
     "output_type": "execute_result"
    }
   ],
   "source": [
    "# Encode Alice's bits\n",
    "encoded_qubits = encode(alice_bits, alice_bases)\n",
    "encoded_qubits[8].draw('mpl') # exemplo"
   ]
  },
  {
   "cell_type": "markdown",
   "metadata": {},
   "source": [
    "## Enviar os qubits\n",
    "Normalmente, Alice enviaria esses qubits codificados através de um canal quântico, como um cabo de fibra ótica. No entanto, como ainda não temos canais quânticos no mundo real, vamos armazenar os circuitos para cada qubit numa matriz chamada `QUANTUM_CHANNEL` para fins de demonstração. Isto seria como se a Alice guardasse os qubits num edifício e esperasse que o Bob os fosse buscar. Claro que, tal como um cabo de fibra ótica, este edifício é também um local onde a Eve pode intercetar a mensagem."
   ]
  },
  {
   "cell_type": "code",
   "execution_count": 312,
   "metadata": {},
   "outputs": [],
   "source": [
    "QUANTUM_CHANNEL = encoded_qubits"
   ]
  },
  {
   "cell_type": "markdown",
   "metadata": {},
   "source": [
    "## Medição\n",
    "O próximo passo é o Bob receber os qubits codificados e medi-los. Primeiro, ele deve escolher seu próprio conjunto de bases aleatórias, assim como Alice."
   ]
  },
  {
   "cell_type": "code",
   "execution_count": 313,
   "metadata": {},
   "outputs": [
    {
     "name": "stdout",
     "output_type": "stream",
     "text": [
      "The bases Bob is going to decode them in are: XZZXZXXZXZ...\n"
     ]
    }
   ],
   "source": [
    "bob_bases = generate_random_bases(KEY_LENGTH) # Bob randomly chooses a basis for each bit.\n",
    "    \n",
    "print(\"The bases Bob is going to decode them in are: \" + bob_bases[:10] + \"...\")"
   ]
  },
  {
   "cell_type": "markdown",
   "metadata": {},
   "source": [
    "Depois, Bob deve medir cada Qubit nas bases correspondentes que ele escolheu. No Qiskit, isto pode ser conseguido adicionando uma porta de medição ao circuito para cada qubit codificado, e depois executando-a. No entanto, os computadores quânticos da IBM medem na base $Z$ por defeito, pelo que, para medir na base $X$, temos de aplicar uma porta Hadamard antes da nossa porta de medição."
   ]
  },
  {
   "cell_type": "code",
   "execution_count": 314,
   "metadata": {},
   "outputs": [],
   "source": [
    "\n",
    "def measure(qubits, bases):\n",
    "    \"\"\"\n",
    "    Esta função mede cada qubit na base correspondente escolhida para ele.\n",
    "    \"\"\"\n",
    "    bits = \"\"  #Resultados das medições\n",
    "    simulator = AerSimulator()  \n",
    "\n",
    "    for idx, (qubit, basis) in enumerate(zip(qubits, bases)):\n",
    "        # medir na base z (default)\n",
    "        if basis == \"Z\":\n",
    "            qubit.measure(0,0)\n",
    "        #medir na base X\n",
    "        elif basis == \"X\":\n",
    "            qubit.h(0) \n",
    "            qubit.measure(0,0)\n",
    "\n",
    "        # Run the simulation\n",
    "        result = simulator.run(qubit, shots=1).result()\n",
    "        counts = result.get_counts()\n",
    "        measured_bit = max(counts, key=counts.get)  # Retrieve the measured bit\n",
    "\n",
    "        # Debug: Print qubit, base, and measured bit for the first 10 measurements\n",
    "        if idx < 10:\n",
    "            print(f\"Measurement {idx + 1}: Base = {basis}, Measured Bit = {measured_bit}\")\n",
    "        bits += measured_bit\n",
    "\n",
    "    return bits\n"
   ]
  },
  {
   "cell_type": "code",
   "execution_count": 315,
   "metadata": {},
   "outputs": [
    {
     "name": "stdout",
     "output_type": "stream",
     "text": [
      "Measurement 1: Base = X, Measured Bit = 1\n",
      "Measurement 2: Base = Z, Measured Bit = 0\n",
      "Measurement 3: Base = Z, Measured Bit = 0\n",
      "Measurement 4: Base = X, Measured Bit = 1\n",
      "Measurement 5: Base = Z, Measured Bit = 1\n",
      "Measurement 6: Base = X, Measured Bit = 1\n",
      "Measurement 7: Base = X, Measured Bit = 1\n",
      "Measurement 8: Base = Z, Measured Bit = 0\n",
      "Measurement 9: Base = X, Measured Bit = 0\n",
      "Measurement 10: Base = Z, Measured Bit = 1\n",
      "The first few bits Bob received are: 1001111001..., of  500\n"
     ]
    }
   ],
   "source": [
    "qubits_received = QUANTUM_CHANNEL # Receive qubits from quantum channel\n",
    "bob_bits = measure(qubits_received, bob_bases)\n",
    "print(\"The first few bits Bob received are: \" + bob_bits[:10] + \"..., of \", len(bob_bits))\n"
   ]
  },
  {
   "cell_type": "markdown",
   "metadata": {},
   "source": [
    "## Comparação\n",
    "Agora, a Alice precisa de dizer ao Bob quais as bases que escolheu para codificar os seus qubits. Ela pode dizer-lhe através de qualquer canal clássico. A beleza deste protocolo é que não importa se Eve descobre quais bases Alice usou."
   ]
  },
  {
   "cell_type": "code",
   "execution_count": 316,
   "metadata": {},
   "outputs": [],
   "source": [
    "CLASSICAL_CHANNEL = alice_bases # Alice tells Bob which bases she used"
   ]
  },
  {
   "cell_type": "markdown",
   "metadata": {},
   "source": [
    "Para cada um dos qubits em que Alice e Bob escolheram bases diferentes, há 50% de chance de a medição de Bob retornar o qubit errado. Por exemplo, se Alice enviou a Bob um qubit no estado $|+\\rangle$ (i.e., um valor de bit 0 codificado na base $X$), e Bob mede na base $Z$, há 50% de chance de ele obter um $|0\\rangle$ e 50% de chance de obter um $|1\\rangle$.Assim, cada instância em que as suas bases não coincidem é inútil para eles, pelo que o Bob precisa de encontrar as bases que partilham em comum."
   ]
  },
  {
   "cell_type": "code",
   "execution_count": 317,
   "metadata": {},
   "outputs": [
    {
     "name": "stdout",
     "output_type": "stream",
     "text": [
      "The indices of the first 10 bases they share in common are: [0, 2, 3, 7, 8, 9, 14, 19, 21, 22]\n"
     ]
    }
   ],
   "source": [
    "# Store the indices of the bases they share in common\n",
    "common_bases = [i for i in range(KEY_LENGTH) if CLASSICAL_CHANNEL[i]==bob_bases[i]]\n",
    "\n",
    "print(\"The indices of the first 10 bases they share in common are: \" + str(common_bases[:10]))"
   ]
  },
  {
   "cell_type": "markdown",
   "metadata": {},
   "source": [
    "Agora que o Bob sabe as bases que partilham em comum, pode discartar o resto dos bits, e manter apenas os que foram medidos nas mesmas bases."
   ]
  },
  {
   "cell_type": "code",
   "execution_count": 318,
   "metadata": {},
   "outputs": [
    {
     "name": "stdout",
     "output_type": "stream",
     "text": [
      "The first 10 bits measured on the same bases are: 1010010010..., de  241\n"
     ]
    }
   ],
   "source": [
    "bob_bits_compared = [bob_bits[index] for index in common_bases]  # Filtra os bits de Bob com base em common_bases\n",
    "# Converte os primeiros 10 bits para uma string antes de concatenar\n",
    "print(\"The first 10 bits measured on the same bases are: \" + ''.join(bob_bits_compared[:10]) + \"..., de \", len(bob_bits_compared))\n"
   ]
  },
  {
   "cell_type": "markdown",
   "metadata": {},
   "source": [
    "Ele tambem informa a Alice das bases que usou para ela poder discartar o resto do bits, mantendo apenas os bits  que foram medidos por bob na mesma base que ela os codificou."
   ]
  },
  {
   "cell_type": "code",
   "execution_count": 319,
   "metadata": {},
   "outputs": [],
   "source": [
    "CLASSICAL_CHANNEL = common_bases # Bob tells Alice which bases they shared in common"
   ]
  },
  {
   "cell_type": "code",
   "execution_count": 320,
   "metadata": {},
   "outputs": [
    {
     "name": "stdout",
     "output_type": "stream",
     "text": [
      "The first 10 bits measured by bob on the same bases that they are encoded: 1010010010..., em  241\n"
     ]
    }
   ],
   "source": [
    "alice_bits_compared = [alice_bits[index] for index in common_bases] # Alice keeps only the bits they shared in common\n",
    "print(\"The first 10 bits measured by bob on the same bases that they are encoded: \" + ''.join(alice_bits_compared[:10]) + \"..., em \", len(alice_bits_compared))"
   ]
  },
  {
   "cell_type": "markdown",
   "metadata": {},
   "source": [
    "Uma vez que ambos estão a manter em comum os bits medidos nas bases que partilharam, *deveriam* ter os mesmos bits. Para termos a certeza de que isso acontece, a Alice anuncia os primeiros bits que tem, e o Bob devera ter os mesmos. Claro que, se Eve estivesse a tentar escutar, também ouviria esses primeiros bits, pelo que a Alice e o Bob também teriam de os descartar (depois de os compararem para se certificarem de que são iguais ao que esperam)."
   ]
  },
  {
   "cell_type": "code",
   "execution_count": 321,
   "metadata": {},
   "outputs": [
    {
     "name": "stdout",
     "output_type": "stream",
     "text": [
      "Yep, Alice and Bob seem to have the same bits!\n"
     ]
    }
   ],
   "source": [
    "CLASSICAL_CHANNEL = alice_bits_compared[:100] # Alice tells Bob the first 100 bits she has left.\n",
    "\n",
    "# Bob checks if they match the first 100 bits that he has\n",
    "if CLASSICAL_CHANNEL == bob_bits_compared[:100]:\n",
    "    print(\"Yep, Alice and Bob seem to have the same bits!\")\n",
    "else:\n",
    "    print(\"Uh oh, at least one of the bits is different.\")"
   ]
  },
  {
   "cell_type": "markdown",
   "metadata": {},
   "source": [
    "Uma vez que os primeiros 100 bits são iguais, Alice e Bob podem ter quase a certeza de que os restantes bits também são iguais. Agora, precisam de descartar os primeiros 100 bits, uma vez que a Eve pode ter estado a ouvir o canal clássico e a registar o que são."
   ]
  },
  {
   "cell_type": "code",
   "execution_count": 322,
   "metadata": {},
   "outputs": [],
   "source": [
    "alice_bits_final = alice_bits_compared[100:] # Alice discards the first 100 bits\n",
    "bob_bits_final = alice_bits_compared[100:] # Alice discards the first 100 bits"
   ]
  },
  {
   "cell_type": "markdown",
   "metadata": {},
   "source": [
    "Estes bits restantes são a chave 🔑 que a Alice e o Bob precisam para estabelecer um canal de comunicação encriptado! Agora podem comunicar sem se preocuparem com o facto de as suas mensagens serem lidas por outra pessoa!"
   ]
  },
  {
   "cell_type": "code",
   "execution_count": 323,
   "metadata": {},
   "outputs": [
    {
     "name": "stdout",
     "output_type": "stream",
     "text": [
      "Shhhhh, the key is:\n",
      "011100001011011111110101001110011111101000000000011001110100010010011010001101000111100110111101101101000010110011111110010101101101100001101\n",
      "Don't tell anyone!\n",
      "\n",
      "The key is 141 bits long.\n"
     ]
    }
   ],
   "source": [
    "key = \"\" \n",
    "for bit in alice_bits_final: # Or bob_bits, since both should be the same\n",
    "    key += bit\n",
    "\n",
    "print(\"Shhhhh, the key is:\")\n",
    "print(str(key))\n",
    "print(\"Don't tell anyone!\")\n",
    "\n",
    "print(\"\\nThe key is \" + str(len(key)) + \" bits long.\")"
   ]
  },
  {
   "cell_type": "markdown",
   "metadata": {},
   "source": [
    "### Eficiência do Protocolo (Sem ruido)"
   ]
  },
  {
   "cell_type": "code",
   "execution_count": 324,
   "metadata": {},
   "outputs": [
    {
     "name": "stdout",
     "output_type": "stream",
     "text": [
      "Eficiência do Protocolo (SIMULADO SEM RUIDO): 96.40%\n"
     ]
    },
    {
     "data": {
      "image/png": "[encoded data removed]",
      "text/plain": [
       "<Figure size 640x480 with 1 Axes>"
      ]
     },
     "metadata": {},
     "output_type": "display_data"
    }
   ],
   "source": [
    "# Cálculo da eficiência (percentagem de bits válidos em relação aos gerados)\n",
    "num_bits_comuns = len(common_bases)\n",
    "eficiencia = ((num_bits_comuns) / (KEY_LENGTH)) * 100 *2\n",
    "print(f\"Eficiência do Protocolo (SIMULADO SEM RUIDO): {eficiencia:.2f}%\")\n",
    "\n",
    "# Adicionando um gráfico de barras\n",
    "fig, ax = plt.subplots()\n",
    "ax.bar([\"Bits Gerados\", \"Bits Comuns\"], [KEY_LENGTH, num_bits_comuns], color=['blue', 'green'])\n",
    "ax.set_title(\"Eficiência do Protocolo Sem ruido\")\n",
    "ax.set_ylabel(\"Número de Bits\")\n",
    "plt.show()"
   ]
  },
  {
   "cell_type": "markdown",
   "metadata": {},
   "source": [
    "## Interceção\n",
    "___\n",
    "Até agora, apenas analisámos o caso em que ninguém espia a Alice e o Bob. Mas e se alguém como a Eva tentar intercetar a chave deles? Vamos ver o que acontece neste caso."
   ]
  },
  {
   "cell_type": "markdown",
   "metadata": {},
   "source": [
    "Primeiro, Alice executa o passo de codificação como habitualmente (ja feito): gera aleatoriamente uma cadeia de bits e bases para os codificar. Em seguida, envia os qubits codificados ao longo de um canal quântico (cabo de fibra ótica) para Bob."
   ]
  },
  {
   "cell_type": "code",
   "execution_count": 325,
   "metadata": {},
   "outputs": [],
   "source": [
    "# Alice randomly chooses a basis for each bit.\n",
    "alice_bases = gerar_bitstrings_aleatorios(KEY_LENGTH)\n",
    "\n",
    "# Encode Alice's bits\n",
    "encoded_qubits = encode(alice_bits, alice_bases)\n",
    "\n",
    "QUANTUM_CHANNEL = encoded_qubits"
   ]
  },
  {
   "cell_type": "markdown",
   "metadata": {},
   "source": [
    "### ⚠️ Interceção por eavesdropper⚠️\n",
    "Desta vez, os qubits são interceptados pela 😈 Eve. Vamos ver o que ela faria. Primeiro, ela escolheria aleatoriamente um conjunto de bases para medir os qubits (já que ela não tem ideia de quais bases Alice usou). Depois, ela efectua as medições. Isto é semelhante ao que o Bob faria normalmente."
   ]
  },
  {
   "cell_type": "code",
   "execution_count": 326,
   "metadata": {},
   "outputs": [
    {
     "name": "stdout",
     "output_type": "stream",
     "text": [
      "Measurement 1: Base = Z, Measured Bit = 1\n",
      "Measurement 2: Base = X, Measured Bit = 0\n",
      "Measurement 3: Base = Z, Measured Bit = 1\n",
      "Measurement 4: Base = Z, Measured Bit = 0\n",
      "Measurement 5: Base = Z, Measured Bit = 0\n",
      "Measurement 6: Base = Z, Measured Bit = 1\n",
      "Measurement 7: Base = X, Measured Bit = 0\n",
      "Measurement 8: Base = X, Measured Bit = 1\n",
      "Measurement 9: Base = X, Measured Bit = 0\n",
      "Measurement 10: Base = X, Measured Bit = 1\n"
     ]
    }
   ],
   "source": [
    "qubits_intercepted = QUANTUM_CHANNEL # Intercept qubits\n",
    "eve_bases = generate_random_bases(KEY_LENGTH) # Generate a random set of bases\n",
    "eve_bits = measure(qubits_intercepted, eve_bases) # Measure the qubits"
   ]
  },
  {
   "cell_type": "markdown",
   "metadata": {},
   "source": [
    "Devido ao Teorema da Não-Clonagem da Mecânica Quântica, Eva não pode simplesmente copiar os qubits do canal quântico. Assim, Bob nunca irá receber os qubits, tornando óbvio para ele e Alice que a sua mensagem foi interceptada.Para evitar que eles se apercebam do que aconteceu, Eva tem de criar os seus próprios qubits de engodo para enviar a Bob.Uma vez que não faz ideia de que bases Alice usou, tem de gerar as bases aleatoriamente.Isto é semelhante ao que Alice fez originalmente quando codificou os qubits. \n",
    "\n",
    "A Eve pode gerar um conjunto de bases totalmente novo, ou pode simplesmente usar as mesmas que usou para medir os qubits. Para simplificar, vamos assumir que as bases que ela usou para intercetar os qubits são as mesmas bases que ela usou para codificar seus qubits chamarizes."
   ]
  },
  {
   "cell_type": "code",
   "execution_count": 327,
   "metadata": {},
   "outputs": [],
   "source": [
    "# Eve encodes her decoy qubits and sends them along the quantum channel\n",
    "QUANTUM_CHANNEL = encode(eve_bits, eve_bases)"
   ]
  },
  {
   "cell_type": "markdown",
   "metadata": {},
   "source": [
    "Bob executa então os seus passos habituais: selecionar uma base de medição e medir os qubits. Ele ainda não sabe que Eva os interceptou."
   ]
  },
  {
   "cell_type": "code",
   "execution_count": 328,
   "metadata": {},
   "outputs": [
    {
     "name": "stdout",
     "output_type": "stream",
     "text": [
      "Measurement 1: Base = X, Measured Bit = 1\n",
      "Measurement 2: Base = Z, Measured Bit = 1\n",
      "Measurement 3: Base = Z, Measured Bit = 1\n",
      "Measurement 4: Base = X, Measured Bit = 1\n",
      "Measurement 5: Base = Z, Measured Bit = 0\n",
      "Measurement 6: Base = Z, Measured Bit = 1\n",
      "Measurement 7: Base = X, Measured Bit = 0\n",
      "Measurement 8: Base = Z, Measured Bit = 1\n",
      "Measurement 9: Base = X, Measured Bit = 0\n",
      "Measurement 10: Base = X, Measured Bit = 1\n"
     ]
    }
   ],
   "source": [
    "bob_bases = generate_random_bases(KEY_LENGTH) # Bob randomly chooses a basis for each bit.\n",
    "qubits_received = QUANTUM_CHANNEL # Receive qubits from quantum channel\n",
    "bob_bits = measure(qubits_received, bob_bases)"
   ]
  },
  {
   "cell_type": "markdown",
   "metadata": {},
   "source": [
    "### Comparação\n",
    "Mais uma vez, Alice precisa de dizer a Bob quais as bases que escolheu para codificar os seus qubits. Ela pode dizer-lhe através de qualquer canal clássico. Como este canal clássico é público, a Eve também sabe quais as bases que ela usou"
   ]
  },
  {
   "cell_type": "code",
   "execution_count": 329,
   "metadata": {},
   "outputs": [],
   "source": [
    "CLASSICAL_CHANNEL = alice_bases # Alice tells Bob which bases she used"
   ]
  },
  {
   "cell_type": "markdown",
   "metadata": {},
   "source": [
    "Como é habitual, o Bob verifica quais as bases que partilham em comum. Ele descarta os bits que não foram medidos nas mesmas bases e mantém os que foram medidos nas mesmas bases em que Alice os codificou.\n"
   ]
  },
  {
   "cell_type": "code",
   "execution_count": 330,
   "metadata": {},
   "outputs": [
    {
     "name": "stdout",
     "output_type": "stream",
     "text": [
      "The first 10 bits measured on the same bases are: 1111011110... em  241 bits\n"
     ]
    }
   ],
   "source": [
    "# Store the indices of the bases they share in common\n",
    "common_bases_eve = [i for i in range(KEY_LENGTH) if CLASSICAL_CHANNEL[i]==bob_bases[i]]\n",
    "bob_bits_compared_eve = [bob_bits[index] for index in common_bases]\n",
    "print(\"The first 10 bits measured on the same bases are: \" + ''.join(bob_bits_compared_eve[:10]) + \"... em \" ,len(bob_bits_compared_eve) , \"bits\")"
   ]
  },
  {
   "cell_type": "markdown",
   "metadata": {},
   "source": [
    "Depois, diz à Alice os índices das bases que têm em comum para que ela possa fazer o mesmo.\n"
   ]
  },
  {
   "cell_type": "code",
   "execution_count": 331,
   "metadata": {},
   "outputs": [
    {
     "name": "stdout",
     "output_type": "stream",
     "text": [
      "The first 10 bits measured by bob on the same bases that they are encoded: 1111111001\n"
     ]
    }
   ],
   "source": [
    "CLASSICAL_CHANNEL = common_bases_eve # Bob tells Alice which bases they shared in common\n",
    "alice_bits_compared_eve = [alice_bits[index] for index in common_bases_eve] # Alice keeps only the bits they shared in common\n",
    "print(\"The first 10 bits measured by bob on the same bases that they are encoded: \" + ''.join(alice_bits_compared_eve[:10]))"
   ]
  },
  {
   "cell_type": "markdown",
   "metadata": {},
   "source": [
    "### Atenção...!\n",
    "Uma vez que a Alice e o Bob só estão a guardar os bits medidos nas bases que partilharam em comum, eles *devem* ter os mesmos bits. Para ter certeza de que esse é o caso, Alice vai anunciar os primeiros bits que ela tem, e Bob deve ter os mesmos."
   ]
  },
  {
   "cell_type": "code",
   "execution_count": 332,
   "metadata": {},
   "outputs": [
    {
     "name": "stdout",
     "output_type": "stream",
     "text": [
      "Ups, 40 bits são diferentes entre Alice e Bob.\n"
     ]
    }
   ],
   "source": [
    "# Alice tells Bob the first 100 bits she has left\n",
    "CLASSICAL_CHANNEL = alice_bits_compared_eve[:100]\n",
    "\n",
    "# Comparar os bits de Alice e Bob\n",
    "bits_diferentes = sum(1 for a, b in zip(CLASSICAL_CHANNEL, bob_bits_compared_eve[:100]) if a != b)\n",
    "\n",
    "# Verificar se os bits coincidem\n",
    "if bits_diferentes == 0:\n",
    "    print(\"Yep, Alice and Bob seem to have the same bits!\")\n",
    "else:\n",
    "    print(f\"Ups, {bits_diferentes} bits são diferentes entre Alice e Bob.\")"
   ]
  },
  {
   "cell_type": "markdown",
   "metadata": {},
   "source": [
    "Depois de compararem os primeiros 100 bits, verificam que os seus bits não coincidem! Assumindo que não há ruído no canal quântico e nos computadores quânticos (que poderia causar erros), Alice e Bob podem ter a certeza de que a sua mensagem foi interceptada! Assim, podem deitar fora todos os seus bits e repetir o mesmo protocolo de novo. Desta vez, podem usar um canal quântico diferente para tentar despistar a Eva!"
   ]
  },
  {
   "cell_type": "markdown",
   "metadata": {},
   "source": [
    "### Eficiência do Protocolo (Com ruido da interceção)"
   ]
  },
  {
   "cell_type": "code",
   "execution_count": 343,
   "metadata": {},
   "outputs": [
    {
     "name": "stdout",
     "output_type": "stream",
     "text": [
      "Eficiência do Protocolo (SIMULADO COM RUIDO Interceção): 80.40%\n"
     ]
    },
    {
     "data": {
      "image/png": "[encoded data removed]",
      "text/plain": [
       "<Figure size 640x480 with 1 Axes>"
      ]
     },
     "metadata": {},
     "output_type": "display_data"
    }
   ],
   "source": [
    "# Cálculo da eficiência (percentagem de bits válidos em relação aos gerados)\n",
    "num_bits_comuns = len(common_bases)\n",
    "eficiencia = ((num_bits_comuns-bits_diferentes) / (KEY_LENGTH)) * 100 *2\n",
    "print(f\"Eficiência do Protocolo (SIMULADO COM RUIDO Interceção): {eficiencia:.2f}%\")\n",
    "\n",
    "# Adicionando um gráfico de barras\n",
    "fig, ax = plt.subplots()\n",
    "ax.bar([\"Bits Gerados\", \"Bits Comuns\"], [KEY_LENGTH, num_bits_comuns], color=['blue', 'green'])\n",
    "ax.set_title(\"Eficiência do Protocolo COM RUIDO Interceção\")\n",
    "ax.set_ylabel(\"Número de Bits\")\n",
    "plt.show()"
   ]
  },
  {
   "cell_type": "markdown",
   "metadata": {},
   "source": [
    "___\n",
    "## Referencias\n",
    "* Qiskit Textbook: https://qiskit.org/textbook/ch-algorithms/quantum-key-distribution.html\n",
    "* Class Notebook: CQ_DEEC_jlobo_02_using_a_real_quantum_computer.ipynb"
   ]
  }
 ],
 "metadata": {
  "kernelspec": {
   "display_name": "Python 3",
   "language": "python",
   "name": "python3"
  },
  "language_info": {
   "codemirror_mode": {
    "name": "ipython",
    "version": 3
   },
   "file_extension": ".py",
   "mimetype": "text/x-python",
   "name": "python",
   "nbconvert_exporter": "python",
   "pygments_lexer": "ipython3",
   "version": "3.11.9"
  }
 },
 "nbformat": 4,
 "nbformat_minor": 4
}
