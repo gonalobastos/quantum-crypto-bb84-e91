{
 "cells": [
  {
   "cell_type": "code",
   "execution_count": 7,
   "metadata": {},
   "outputs": [
    {
     "name": "stdout",
     "output_type": "stream",
     "text": [
      "Bitstrings aleatórios gerados:\n",
      "['00000110111010101111111011010010110010101101000000011100001110000011101011010011010000010110101110000000011100111010100010100101011101000100011001100001001010100000010010100101001000100110100111101010001001011100000001101010110110100110100010111010110110111100100101111101111010001111001010110001001110110111101000001001101011000000101010000110111010000111000011011111000101111001000110101001001110101110101000110010011101010000011100111111001001111111101001100011111011101001000101001111000111111001']\n"
     ]
    }
   ],
   "source": [
    "from qiskit import QuantumCircuit, transpile\n",
    "from qiskit_aer import AerSimulator\n",
    "import numpy as np\n",
    "\n",
    "def gerar_bitstrings_aleatorios(num_qubits: int, num_bitstrings: int):\n",
    "    \"\"\"\n",
    "    Gera bitstrings aleatórios usando Qiskit.\n",
    "    \n",
    "    :param num_qubits: Número de qubits no circuito (também determina o comprimento dos bitstrings).\n",
    "    :param num_bitstrings: Número de bitstrings a gerar.\n",
    "    :return: Lista de bitstrings aleatórios.\n",
    "    \"\"\"\n",
    "    # Criar o circuito quântico\n",
    "    qc = QuantumCircuit(num_qubits)\n",
    "    \n",
    "    # Colocar todos os qubits em superposição\n",
    "    for qubit in range(num_qubits):\n",
    "        qc.h(qubit)  # Aplicar porta Hadamard\n",
    "    \n",
    "    # Adicionar medidas\n",
    "    qc.measure_all()\n",
    "    \n",
    "    # Inicializar o simulador de Aer\n",
    "    simulator = AerSimulator()\n",
    "    \n",
    "    # Simular o circuito\n",
    "    compiled_circuit = transpile(qc)\n",
    "    result = simulator.run(compiled_circuit, shots=num_bitstrings).result()\n",
    "    \n",
    "    # Obter os resultados das medições\n",
    "    counts = result.get_counts()\n",
    "    \n",
    "    # Converter os resultados em uma lista de bitstrings\n",
    "    bitstrings = []\n",
    "    for bitstring, count in counts.items():\n",
    "        bitstrings.extend([bitstring] * count)\n",
    "    \n",
    "    return bitstrings\n",
    "\n",
    "# Parâmetros do gerador\n",
    "num_qubits = 500  # Comprimento dos bitstrings\n",
    "num_bitstrings = 1  # Número de bitstrings a gerar\n",
    "\n",
    "# Gerar bitstrings aleatórios\n",
    "bitstrings_aleatorios = gerar_bitstrings_aleatorios(num_qubits, num_bitstrings)\n",
    "\n",
    "print(\"Bitstrings aleatórios gerados:\")\n",
    "print(bitstrings_aleatorios)\n"
   ]
  }
 ],
 "metadata": {
  "kernelspec": {
   "display_name": "Python 3",
   "language": "python",
   "name": "python3"
  },
  "language_info": {
   "codemirror_mode": {
    "name": "ipython",
    "version": 3
   },
   "file_extension": ".py",
   "mimetype": "text/x-python",
   "name": "python",
   "nbconvert_exporter": "python",
   "pygments_lexer": "ipython3",
   "version": "3.11.9"
  }
 },
 "nbformat": 4,
 "nbformat_minor": 2
}
